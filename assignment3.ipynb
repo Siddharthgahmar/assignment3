{
 "cells": [
  {
   "cell_type": "markdown",
   "id": "12070beb-8743-424e-af7a-8d6bace1b385",
   "metadata": {},
   "source": [
    "Q1-Which keyword is used to create a function ? Create a functoin to return list of odd numbers in the range of 1 to 25.\n",
    "Ans-  'def' keyword used to create a function\n",
    "\n"
   ]
  },
  {
   "cell_type": "code",
   "execution_count": 20,
   "id": "5c65a4be-257e-4564-935b-5cd5de8efaf1",
   "metadata": {},
   "outputs": [
    {
     "name": "stdout",
     "output_type": "stream",
     "text": [
      "[1]\n"
     ]
    }
   ],
   "source": [
    "def odd_numbers():\n",
    "    \"\"\"Returns a list of odd numbers in the range of 1 to 25.\"\"\"\n",
    "    odd_numbers = []\n",
    "    for i in range(1, 26):\n",
    "        if i % 2 == 1:\n",
    "            odd_numbers.append(i)\n",
    "            return odd_numbers\n",
    "\n",
    "odd_numbers = odd_numbers()\n",
    "print(odd_numbers)\n",
    "    "
   ]
  },
  {
   "cell_type": "markdown",
   "id": "13a9f5ed-403d-484a-8216-e2b68d94398e",
   "metadata": {},
   "source": [
    "Q2-Why *args and **kwargs is used in some function? Create a function a each for *args and **kwargs to demonstrate their use\n",
    "    "
   ]
  },
  {
   "cell_type": "markdown",
   "id": "3b494023-dc39-4347-8761-0d0738888d22",
   "metadata": {},
   "source": [
    "Ans-  .The *args parameter is used to pass a vriable number of positional arguments to a function . It collects these arguments into a tuple , Which can then be accessed with in the function .It is denoted by an asterisk (*) before the parameter name\n",
    "\n",
    " .  The **kwargs allows to pass a variable number of key word argument to a function.  it collects these arguments into a dictionary . It is denoted by two asterisks(**) before the parameter name"
   ]
  },
  {
   "cell_type": "code",
   "execution_count": 14,
   "id": "500f53d7-2e68-4d87-8a4e-5072da2be7b7",
   "metadata": {},
   "outputs": [
    {
     "name": "stdout",
     "output_type": "stream",
     "text": [
      "(1, 2, 3)\n"
     ]
    }
   ],
   "source": [
    "def my_function(*args): #args function\n",
    "     print(args)\n",
    "\n",
    "my_function(1, 2, 3)\n"
   ]
  },
  {
   "cell_type": "code",
   "execution_count": 15,
   "id": "90da5a95-449f-4901-889a-ec265b487e73",
   "metadata": {},
   "outputs": [
    {
     "name": "stdout",
     "output_type": "stream",
     "text": [
      "{'a': 1, 'b': 2, 'c': 3}\n"
     ]
    }
   ],
   "source": [
    "def my_function(**kwargs):\n",
    "     print(kwargs)                 ##kwargs function \n",
    "\n",
    "my_function(a=1, b=2, c=3)\n"
   ]
  },
  {
   "cell_type": "markdown",
   "id": "8644d9d6-d781-4e2b-b8c2-3339722e1d8b",
   "metadata": {},
   "source": [
    "Q3-What is iterator in python ? Name the method used to initialise the iterior object and the method used for iteration.Use these methods to print the first five elements of the given list [2 ,4,6,8,10,12,14,16,18,20]."
   ]
  },
  {
   "cell_type": "markdown",
   "id": "a33afea3-806c-45dc-9ca2-77267aecda20",
   "metadata": {},
   "source": [
    "\n",
    "Ans-An iterator in Python is an object that can be used to iterate over a sequence of data. Iterators are implemented using the iterator protocol, which consists of two special methods: __iter__() and __next__()."
   ]
  },
  {
   "cell_type": "code",
   "execution_count": 22,
   "id": "09602028-44e5-40b8-a89c-45fd2acf0ab9",
   "metadata": {},
   "outputs": [
    {
     "name": "stdout",
     "output_type": "stream",
     "text": [
      "2 4 6 8 10 "
     ]
    }
   ],
   "source": [
    "list_of_numbers = [2, 4, 6, 8, 10, 12, 14, 16, 18, 20]\n",
    "\n",
    "\n",
    "iterator = iter(list_of_numbers)\n",
    "\n",
    "\n",
    "for i in range(5):\n",
    "    print(next(iterator),end=\" \")\n"
   ]
  },
  {
   "cell_type": "markdown",
   "id": "9f7f7622-98f1-4868-8f4b-cf5ff1ee277c",
   "metadata": {},
   "source": [
    "Q4-What is a generator in python ? Why yield keyword is used? Give an example of a generator function."
   ]
  },
  {
   "cell_type": "markdown",
   "id": "8d308c4f-38aa-4e1e-ad05-033ba5a4dbd9",
   "metadata": {},
   "source": [
    "Ans-A generator is a function that returns an iterator that produces a sequence of values when iterated over. Generators are useful when we want to produce a large sequence of values, but we don't want to store all of them in memory at once.\n",
    "\n",
    "The yield keyword is used to create generators. When a generator function is called, it does not execute the function body immediately. Instead, it returns a generator object that can be iterated over to produce the values."
   ]
  },
  {
   "cell_type": "code",
   "execution_count": 27,
   "id": "db66d4ed-b24c-41cf-aab8-b71cdc3f9dad",
   "metadata": {},
   "outputs": [
    {
     "data": {
      "text/plain": [
       "0"
      ]
     },
     "execution_count": 27,
     "metadata": {},
     "output_type": "execute_result"
    }
   ],
   "source": [
    "def my_generator():\n",
    "    for i in range(10):\n",
    "        yield i\n",
    "\n",
    "gen=my_generator()\n",
    "next(gen)\n"
   ]
  },
  {
   "cell_type": "code",
   "execution_count": 28,
   "id": "d84cf7f0-75c2-41ee-96fc-d575c5d3777a",
   "metadata": {},
   "outputs": [
    {
     "data": {
      "text/plain": [
       "1"
      ]
     },
     "execution_count": 28,
     "metadata": {},
     "output_type": "execute_result"
    }
   ],
   "source": [
    "next(gen)\n"
   ]
  },
  {
   "cell_type": "code",
   "execution_count": 29,
   "id": "afa094d0-307e-4d27-aaef-b48db24372c2",
   "metadata": {},
   "outputs": [
    {
     "data": {
      "text/plain": [
       "2"
      ]
     },
     "execution_count": 29,
     "metadata": {},
     "output_type": "execute_result"
    }
   ],
   "source": [
    "next(gen)"
   ]
  },
  {
   "cell_type": "markdown",
   "id": "8d918d30-8fcd-41c7-8429-71edf9587073",
   "metadata": {},
   "source": [
    "Q5-Create a generator function for prime numbers less than 1000.Use the next() method to print the first 20 prime numbers."
   ]
  },
  {
   "cell_type": "code",
   "execution_count": 37,
   "id": "99c005a7-722a-4bac-b391-b083b5194270",
   "metadata": {},
   "outputs": [
    {
     "name": "stdout",
     "output_type": "stream",
     "text": [
      "2 3 5 7 11 13 17 19 23 29 31 37 41 43 47 53 59 61 67 71 "
     ]
    }
   ],
   "source": [
    "def generate_primes():\n",
    "    primes=[]\n",
    "    num = 2\n",
    "    while num < 1000:\n",
    "        is_prime=True\n",
    "        for prime in primes :\n",
    "            if num % prime== 0:\n",
    "                is_prime = False\n",
    "                break\n",
    "        if is_prime:\n",
    "            primes.append(num)\n",
    "            yield num\n",
    "        num += 1\n",
    "        \n",
    "prime_generator= generate_primes()\n",
    "\n",
    "for _ in range(20):\n",
    "    print(next(prime_generator),end=\" \")\n",
    "            \n"
   ]
  },
  {
   "cell_type": "markdown",
   "id": "7957a276-1ded-441b-abf2-b075189dcae3",
   "metadata": {},
   "source": [
    "Q6-  Write a python program to print the first 10 fibonacci numbers using a while loop."
   ]
  },
  {
   "cell_type": "code",
   "execution_count": 38,
   "id": "c3c92940-d023-4853-931c-176afe5f479b",
   "metadata": {},
   "outputs": [
    {
     "name": "stdout",
     "output_type": "stream",
     "text": [
      "0\n",
      "1\n",
      "1\n",
      "2\n",
      "3\n",
      "5\n",
      "8\n",
      "13\n",
      "21\n",
      "34\n"
     ]
    }
   ],
   "source": [
    "def print_fibonacci():\n",
    "    a, b = 0, 1\n",
    "    count = 0\n",
    "    while count < 10:\n",
    "        print(a)\n",
    "        a, b = b, a + b\n",
    "        count += 1\n",
    "\n",
    "if __name__ == \"__main__\":\n",
    "    print_fibonacci()\n"
   ]
  },
  {
   "cell_type": "markdown",
   "id": "a7e9fb1f-f083-4d35-a77d-029fc7e92a27",
   "metadata": {},
   "source": [
    "Q7- Write a List Comprehensions to iterate through the given string:'pwskills'.\n",
    "Excpected output: ['p','w','s','k','i','l','s']"
   ]
  },
  {
   "cell_type": "code",
   "execution_count": 1,
   "id": "30dea3c3-7b94-43c7-ac7e-3a9205f85809",
   "metadata": {},
   "outputs": [
    {
     "name": "stdout",
     "output_type": "stream",
     "text": [
      "['p', 'w', 's', 'k', 'i', 'l', 'l', 's']\n"
     ]
    }
   ],
   "source": [
    "list_comprehension = [character for character in 'pwskills']\n",
    "print(list_comprehension)\n"
   ]
  },
  {
   "cell_type": "markdown",
   "id": "bfeebb70-903f-4470-afcb-950b90b7f3d5",
   "metadata": {},
   "source": [
    "Q8-Write a python program to check the whether a given number is pallindrome or not using a while loop."
   ]
  },
  {
   "cell_type": "code",
   "execution_count": 2,
   "id": "7de72b98-7d6a-485a-b761-78143ff23470",
   "metadata": {},
   "outputs": [
    {
     "name": "stdin",
     "output_type": "stream",
     "text": [
      "Enter a number:  484\n"
     ]
    },
    {
     "name": "stdout",
     "output_type": "stream",
     "text": [
      "The number is a palindrome.\n"
     ]
    }
   ],
   "source": [
    "def is_palindrome(number):\n",
    "    rev = 0\n",
    "    original = number\n",
    "    while number > 0:\n",
    "        digit = number % 10\n",
    "        rev = rev * 10 + digit\n",
    "        number //= 10\n",
    "    return original == rev\n",
    "\n",
    "if __name__ == \"__main__\":\n",
    "    number = int(input(\"Enter a number: \"))\n",
    "    if is_palindrome(number):\n",
    "        print(\"The number is a palindrome.\")\n",
    "    else:\n",
    "        print(\"The number is not a palindrome.\")\n"
   ]
  },
  {
   "cell_type": "markdown",
   "id": "fdfdb1e6-91b9-4f3c-adc3-4fa758b0cef0",
   "metadata": {},
   "source": [
    "Q9-Write a code to print odd numbers from 1 to 100 using list comprehensions.\n",
    "Note-Use a list  comprehension to create a list from 1 to 100 and use another List comprehensions to filter out odd numbers."
   ]
  },
  {
   "cell_type": "code",
   "execution_count": 3,
   "id": "467b3465-ee1f-4516-bc14-c26285b01311",
   "metadata": {},
   "outputs": [
    {
     "name": "stdout",
     "output_type": "stream",
     "text": [
      "[1, 2, 3, 4, 5, 6, 7, 8, 9, 10, 11, 12, 13, 14, 15, 16, 17, 18, 19, 20, 21, 22, 23, 24, 25, 26, 27, 28, 29, 30, 31, 32, 33, 34, 35, 36, 37, 38, 39, 40, 41, 42, 43, 44, 45, 46, 47, 48, 49, 50, 51, 52, 53, 54, 55, 56, 57, 58, 59, 60, 61, 62, 63, 64, 65, 66, 67, 68, 69, 70, 71, 72, 73, 74, 75, 76, 77, 78, 79, 80, 81, 82, 83, 84, 85, 86, 87, 88, 89, 90, 91, 92, 93, 94, 95, 96, 97, 98, 99, 100]\n"
     ]
    }
   ],
   "source": [
    "list_compehensions=[ num for num in range(1,101)]\n",
    "print(list_compehensions)"
   ]
  },
  {
   "cell_type": "code",
   "execution_count": 4,
   "id": "db37b121-f7aa-47a9-8f9f-b08c4aea7b25",
   "metadata": {},
   "outputs": [
    {
     "data": {
      "text/plain": [
       "[1,\n",
       " 3,\n",
       " 5,\n",
       " 7,\n",
       " 9,\n",
       " 11,\n",
       " 13,\n",
       " 15,\n",
       " 17,\n",
       " 19,\n",
       " 21,\n",
       " 23,\n",
       " 25,\n",
       " 27,\n",
       " 29,\n",
       " 31,\n",
       " 33,\n",
       " 35,\n",
       " 37,\n",
       " 39,\n",
       " 41,\n",
       " 43,\n",
       " 45,\n",
       " 47,\n",
       " 49,\n",
       " 51,\n",
       " 53,\n",
       " 55,\n",
       " 57,\n",
       " 59,\n",
       " 61,\n",
       " 63,\n",
       " 65,\n",
       " 67,\n",
       " 69,\n",
       " 71,\n",
       " 73,\n",
       " 75,\n",
       " 77,\n",
       " 79,\n",
       " 81,\n",
       " 83,\n",
       " 85,\n",
       " 87,\n",
       " 89,\n",
       " 91,\n",
       " 93,\n",
       " 95,\n",
       " 97,\n",
       " 99]"
      ]
     },
     "execution_count": 4,
     "metadata": {},
     "output_type": "execute_result"
    }
   ],
   "source": [
    "list(filter(lambda x :x%2!=0,list_compehensions))"
   ]
  },
  {
   "cell_type": "code",
   "execution_count": null,
   "id": "1695ee7d-fcb3-4e48-9d48-7686dec621f6",
   "metadata": {},
   "outputs": [],
   "source": []
  }
 ],
 "metadata": {
  "kernelspec": {
   "display_name": "Python 3 (ipykernel)",
   "language": "python",
   "name": "python3"
  },
  "language_info": {
   "codemirror_mode": {
    "name": "ipython",
    "version": 3
   },
   "file_extension": ".py",
   "mimetype": "text/x-python",
   "name": "python",
   "nbconvert_exporter": "python",
   "pygments_lexer": "ipython3",
   "version": "3.10.8"
  }
 },
 "nbformat": 4,
 "nbformat_minor": 5
}
